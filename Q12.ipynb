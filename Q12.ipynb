{
 "cells": [
  {
   "cell_type": "markdown",
   "metadata": {
    "deletable": false,
    "editable": false,
    "nbgrader": {
     "cell_type": "markdown",
     "checksum": "0ed540b710d3fb38cd68f8c0fe785c7d",
     "grade": false,
     "grade_id": "cell-ed41cea3f1593f6b",
     "locked": true,
     "schema_version": 3,
     "solution": false,
     "task": false
    }
   },
   "source": [
    "<div class=\"alert alert-success\">\n",
    "\n",
    "## Instructions to students\n",
    "\n",
    "If the assignment was fetched from the assignments tab, do not change the name of the assignment file(s).\n",
    "\n",
    "### Code answers\n",
    "\n",
    "In questions that require you to write code, there will be a code cell containing: \n",
    "    \n",
    "<code># YOUR CODE HERE</code>\n",
    "<br>\n",
    "<code>raise NotImplementedError()</code>\n",
    "    \n",
    "When you are ready to write your answer, delete <code>raise NotImplementedError()</code> and write your code.\n",
    "\n",
    "### Submitting your work\n",
    "    \n",
    "You should save your work before you submit (\"Save\" icon in top menu).\n",
    "    \n",
    "Before you submit, ensure that the notebook can be run from start to finish by pressing the \"Restart & Run All\" option in the \"Kernel\" menu above.\n",
    "    \n",
    "Once you are ready, go to the assignments tab on the Noteable landing page and click \"Submit\" on the relevant assignment.\n",
    "\n",
    "</div>"
   ]
  },
  {
   "cell_type": "markdown",
   "metadata": {
    "deletable": false,
    "editable": false,
    "nbgrader": {
     "cell_type": "markdown",
     "checksum": "27037545c0a2bc916ed9fcf21d32fd38",
     "grade": false,
     "grade_id": "cell-14f6c436f3904ca5",
     "locked": true,
     "schema_version": 3,
     "solution": false
    }
   },
   "source": [
    "**Question 12**: Consider the one-dimensional, time-independent Schroedinger equation describing a particle with wave function $\\psi(x)$ and energy $E$: $$-\\frac{1}{2\\,m_{e}}\\,\\frac{d^{2}\\psi(x)}{dx^{2}} + V(x)\\,\\psi(x) = E\\,\\psi(x).$$ Values for the constant $m_{e}$ and others required for the calculation in natural(!) units are given in the code cell below. Natural units set $c=\\hbar{}=1$ which means all masses and energies are in units of electron Volts \\[eV\\]. Length units change to \\[1/eV\\] and a conversion factor between \\[m\\] and \\[1/eV\\] is given.\n",
    "\n",
    "**Tasks**: \n",
    "\n",
    "**(a)** Consider a square potential well with $V(x)=0$ in between two infinitely high walls separated by a distance $L$ equal to the Bohr radius, i.e. for all x in the interval $[0,L]$. Write a function `solve(energy, func)` which takes the parameter energy and a python function `func`. This function should solve the Schroedinger ODE for the case described above and return only the final value of $\\psi(L)$ at the boundary $L$. \n",
    "\n",
    "Write a function `eqn(x, y, energy)` containing the two first-order differential equations equivalent to the Schroedinger equation. Use this function as input for the `solve(energy, func)` function. This detailed naming scheme is required for the first tests of your code.\n",
    "\n",
    "Write a script using the function `solve(energy, func)` to calculate the ground state energy of an electron in this potential well in units of eV. For the initial condition, see technical hint below. For the number of values to solve for $\\psi(x)$ the value 1000 is recommended.\n",
    "\n",
    "The result of your calculation should be a number between 134 eV and 135 eV. One of the tests will assess your `solve(energy, func)` function for a distorted potential well.\n",
    "\n",
    "**(b)** Consider the harmonic potential $$V(x)=V_{0}\\,x^{2}/a^{2},$$ where $V_{0}$ and $a=10^{-11}$ m are constants (remember to convert \\[m\\] to \\[1/eV\\]). Limit the infinite range of the variable $x$ to the interval $[-10a, 10a]$ with $V_{0}=50$ eV. The harmonic oscillator is known to have equidistant energy eigenvalues. Check that this is true, to the precision of your calculation, by calculating the ground state and the first 2 excited states. (Hint: the ground state has energy in the range 100 to 200 eV. You may wish to program a different `solve2(energy)` function to part (a) for this exercise.)\n",
    "\n",
    "In order to test your result, write a function `result()` which must return the difference of calculated energy eigenvalues in eV as a single number. As stated above, the absolute difference between the ground and first state and the first and second state should be very close to equal. Either of those two numbers should be returned. Consider that this is merely a function to enable automated testing and hence should really only return the requested value. Calculations should take place earlier in your code so that `result()` can run without an input argument.\n",
    "\n",
    "**(c)** Plot the normalized wavefunctions, for the ground state energy and the two excited state energies as obtained without normalization in part (b). Note that normalization of a wavefunction requires the calculation of the integral of the square of the wavefunction $\\int|\\psi(x)|^{2}dx$ and subsequent division of $\\psi(x)$ by the square root of the integral. \n",
    "\n",
    "Provide a plot with appropriate axis labels, plot all three wavefunctions onto a single canvas using color-coded lines and use x-axis values in units of \\[m\\], i.e. the original interval $[-10a, 10a]$.\n",
    "\n",
    "**Technical Hint**: This is not an initial value problem for the Schroedinger ODE but a boundary value problem! This requires additional effort, a different method to the previous ODE exercises and is hence an 'unseen' problem. \n",
    "\n",
    "Take a simple initial condition for both problems at $x_{0}=0$ or $x_{0}=-10a$, respectively: $\\psi(x_{0})=0$ and $d\\psi(x_{0})/dx=1$. Use that as a starting point to solve the ODE and vary the energy, $E$, until a solution converges. The task is to evaluate the variation of the energy variable until the second boundary condition (for instance at L for exercise (a)) is satisfied since the first boundary condition is already satisfied due to the choice of initial condition. \n",
    "\n",
    "This requires an initial guess for the energy interval in which the solution might be and a computational method for root finding. Search scipy for root finding methods and select one which does not require knowledge of the derivative. Root finding is appropriate here since the boundary condition to satisfy is $\\psi(x)=0$ to a given precision.\n",
    "\n",
    "**Technical Hint 2**: part (a) requires using `solve_ivp` in order to solve the boundary value problem in combination with a root finder function. The SciPy boundary value solver, `solve_bvp`, can be used for parts (b) and (c), if you wish. The root finding, `solve_ivp` method will also work, however.\n",
    "\n",
    "**Quantum physics background** For those lacking the first year quantum module, the boundary condition for both exercises is that $\\psi(x)=0$ at each potential boundary. These are only fulfilled at specific, discrete energy values $E$, called energy eigenvalues, where the smallest of these is called the ground state energy."
   ]
  },
  {
   "cell_type": "code",
   "execution_count": 2,
   "metadata": {
    "deletable": false,
    "nbgrader": {
     "cell_type": "code",
     "checksum": "14a42e1b326118ddfd7d7c7a0dc67847",
     "grade": false,
     "grade_id": "Q12CodeA",
     "locked": false,
     "schema_version": 3,
     "solution": true
    },
    "tags": []
   },
   "outputs": [
    {
     "name": "stdout",
     "output_type": "stream",
     "text": [
      "[134.17736066]\n"
     ]
    }
   ],
   "source": [
    "''' required physical constants. Do not change.'''\n",
    "from scipy.constants import c, m_e, eV, e\n",
    "me_ev  = m_e*c**2/e          # mass m_e in [eV]\n",
    "\n",
    "l_bohr = 5.2918e-11          # Bohr radius [m]\n",
    "convert_length = 5067730.179 # convert [m] to [1/eV] in natural units\n",
    "l_ev   = l_bohr * convert_length\n",
    "\n",
    "# YOUR CODE HERE\n",
    "import numpy as np\n",
    "from scipy.integrate import solve_ivp\n",
    "from scipy.optimize import root\n",
    "\n",
    "def solve(energy, func):\n",
    "    xrange = np.linspace(0, l_ev, 1000)\n",
    "    sol = solve_ivp(func, (0,l_ev), np.array([0,1]), t_eval = xrange, args = (energy))\n",
    "    y = sol.y\n",
    "    psi = y[0]\n",
    "    return psi[-1]\n",
    "\n",
    "#here y = [psi(x), psi'(x)] but I will define psi'(x) as u for simplicity\n",
    "def eqn(x, y, energy):\n",
    "    psi = y[0]\n",
    "    u = y[1]\n",
    "    return np.array([u, -2*me_ev*energy*psi])\n",
    "\n",
    "\"\"\"\n",
    "Plan: find an initial energy value, use a scipy function to test values around that until a psi(L) = zero is found \n",
    "\"\"\"\n",
    "\n",
    "E0 = 134.5 #[eV]\n",
    "sol = root(solve, E0, args = (eqn))\n",
    "GSE = sol.x #[eV] note this is a 1d array.\n",
    "\n",
    "print (GSE)"
   ]
  },
  {
   "cell_type": "code",
   "execution_count": 16,
   "metadata": {
    "deletable": false,
    "nbgrader": {
     "cell_type": "code",
     "checksum": "7520bd30c0ad625362993ab1c4b54eed",
     "grade": false,
     "grade_id": "Q12CodeB",
     "locked": false,
     "schema_version": 3,
     "solution": true
    },
    "tags": []
   },
   "outputs": [
    {
     "name": "stdout",
     "output_type": "stream",
     "text": [
      "137.98750497098527\n",
      "413.9228873403036\n",
      "689.9156166508945\n",
      "275.99272931059096\n"
     ]
    },
    {
     "data": {
      "image/png": "[encoded data removed]",
      "text/plain": [
       "<Figure size 640x480 with 1 Axes>"
      ]
     },
     "metadata": {},
     "output_type": "display_data"
    }
   ],
   "source": [
    "# solution to parts (b), (c)\n",
    "# YOUR CODE HERE\n",
    "import matplotlib.pyplot as plt\n",
    "\n",
    "def eqn_b(x, y, energy):\n",
    "    psi = y[0]\n",
    "    u = y[1]\n",
    "    V0 = 50 #[eV]\n",
    "    a = 1e-11 #[m]\n",
    "    a_ev = a * convert_length #[1/eV]\n",
    "    ydash = np.array([u, -2*me_ev*psi*(energy-V0*(x**2)/(a_ev**2))])\n",
    "#    print (ydash)\n",
    "    return ydash\n",
    "\n",
    "def solve2(energy):\n",
    "    xrange = np.linspace((-1e-10)*convert_length, (1e-10)*convert_length,1000)\n",
    "    sol = solve_ivp(eqn_b, ((-1e-10)*convert_length, (1e-10)*convert_length), np.array([0,1]), t_eval = xrange, args = (energy))\n",
    "    y = sol.y\n",
    "    global psi\n",
    "    psi = y[0]\n",
    "    return psi[-1]\n",
    "\n",
    "def result():\n",
    "    return excited2 - excited1\n",
    "\n",
    "E0 = 150\n",
    "sol0 = root(solve2, E0)\n",
    "psi0 = psi\n",
    "GSE = sol0.x[0]\n",
    "print (GSE)\n",
    "E1 = 410\n",
    "sol1 = root(solve2, E1)\n",
    "psi1 = psi\n",
    "excited1 = sol1.x[0]\n",
    "print (excited1)\n",
    "E2 = 680\n",
    "sol2 = root(solve2, E2)\n",
    "psi2 = psi\n",
    "excited2 = sol2.x[0]\n",
    "print (excited2)\n",
    "\n",
    "print (result())\n",
    "\n",
    "xvals = np.linspace((-1e-10), (1e-10),1000)\n",
    "psi0_int = np.trapz((abs(psi0))**2, (xvals*convert_length))\n",
    "psi0_norm = psi0 / psi0_int\n",
    "psi1_int = np.trapz((abs(psi1))**2, (xvals*convert_length))\n",
    "psi1_norm = psi1 / psi1_int\n",
    "psi2_int = np.trapz((abs(psi2))**2, (xvals*convert_length))\n",
    "psi2_norm = psi2 / psi2_int\n",
    "\n",
    "\n",
    "plt.plot(xvals, psi0_norm, label = (\"E = \" + str(round(GSE,3))))\n",
    "plt.plot(xvals, psi1_norm, label = (\"E = \" + str(round(excited1,3))))\n",
    "plt.plot(xvals, psi2_norm, label = (\"E = \" + str(round(excited2,3))))\n",
    "plt.xlabel(\"metres\")\n",
    "plt.ylabel(\"Normalised Wave Function Value\")\n",
    "plt.title(\"Normalised Wave Functions for Different Energy Eigenvalues\")\n",
    "plt.legend()\n",
    "plt.show()\n",
    "\n",
    "#plt.plot(xvals, psi0)\n",
    "#plt.plot(xvals, psi1)\n",
    "#plt.plot(xvals, psi2)\n",
    "#plt.show()"
   ]
  },
  {
   "cell_type": "markdown",
   "metadata": {
    "deletable": false,
    "editable": false,
    "nbgrader": {
     "cell_type": "markdown",
     "checksum": "a0b7cc78919afb7618540101cb95fb5d",
     "grade": false,
     "grade_id": "plot",
     "locked": true,
     "points": 4,
     "schema_version": 3,
     "solution": false,
     "task": true
    }
   },
   "source": [
    "Manual plot marking with feedback where appropriate."
   ]
  },
  {
   "cell_type": "code",
   "execution_count": 3,
   "metadata": {
    "deletable": false,
    "editable": false,
    "nbgrader": {
     "cell_type": "code",
     "checksum": "fb70c5015f01d6cc4f844a0e526bfc39",
     "grade": true,
     "grade_id": "Q12TestB",
     "locked": true,
     "points": 1,
     "schema_version": 3,
     "solution": false
    }
   },
   "outputs": [],
   "source": [
    "# Hidden test for (a). Uses constants as given above - do not rename."
   ]
  },
  {
   "cell_type": "code",
   "execution_count": 4,
   "metadata": {
    "deletable": false,
    "editable": false,
    "nbgrader": {
     "cell_type": "code",
     "checksum": "9b1c60c93c0859f31fa496eff96e224f",
     "grade": true,
     "grade_id": "Q12TestC",
     "locked": true,
     "points": 1,
     "schema_version": 3,
     "solution": false
    }
   },
   "outputs": [],
   "source": [
    "# Test for (b), uses result() function; do not delete"
   ]
  },
  {
   "cell_type": "markdown",
   "metadata": {
    "deletable": false,
    "editable": false,
    "nbgrader": {
     "cell_type": "markdown",
     "checksum": "5067fbe9753960ed97329bf6afe2f35c",
     "grade": false,
     "grade_id": "cell-6810b3df37ea911a",
     "locked": true,
     "schema_version": 3,
     "solution": false
    }
   },
   "source": [
    "### Tests 2 marks; Plot - 4 marks"
   ]
  }
 ],
 "metadata": {
  "kernelspec": {
   "display_name": "Python 3 (ipykernel)",
   "language": "python",
   "name": "python3"
  },
  "language_info": {
   "codemirror_mode": {
    "name": "ipython",
    "version": 3
   },
   "file_extension": ".py",
   "mimetype": "text/x-python",
   "name": "python",
   "nbconvert_exporter": "python",
   "pygments_lexer": "ipython3",
   "version": "3.11.5"
  },
  "vscode": {
   "interpreter": {
    "hash": "de52dedf06c7c9834794cd109c508227b8ca4eae72cb2c1c8b2cb9bfbebee32a"
   }
  }
 },
 "nbformat": 4,
 "nbformat_minor": 4
}
