{
 "cells": [
  {
   "cell_type": "markdown",
   "id": "6564124f",
   "metadata": {
    "deletable": false,
    "editable": false,
    "nbgrader": {
     "cell_type": "markdown",
     "checksum": "f224016528b0e4d73e9b86a9e5a8ea05",
     "grade": false,
     "grade_id": "cell-4f269238c92b7577",
     "locked": true,
     "schema_version": 3,
     "solution": false,
     "task": false
    }
   },
   "source": [
    "<div class=\"alert alert-success\">\n",
    "\n",
    "## Instructions to students\n",
    "\n",
    "If the assignment was fetched from the assignments tab, do not change the name of the assignment file(s).\n",
    "\n",
    "### Code answers\n",
    "\n",
    "In questions that require you to write code, there will be a code cell containing: \n",
    "    \n",
    "<code># YOUR CODE HERE</code>\n",
    "<br>\n",
    "<code>raise NotImplementedError()</code>\n",
    "    \n",
    "When you are ready to write your answer, delete <code>raise NotImplementedError()</code> and write your code.\n",
    "\n",
    "### Submitting your work\n",
    "    \n",
    "You should save your work before you submit (\"Save\" icon in top menu).\n",
    "    \n",
    "Before you submit, ensure that the notebook can be run from start to finish by pressing the \"Restart & Run All\" option in the \"Kernel\" menu above.\n",
    "    \n",
    "Once you are ready, go to the assignments tab on the Noteable landing page and click \"Submit\" on the relevant assignment.\n",
    "\n",
    "</div>"
   ]
  },
  {
   "cell_type": "markdown",
   "id": "c6aad814",
   "metadata": {
    "deletable": false,
    "editable": false,
    "nbgrader": {
     "cell_type": "markdown",
     "checksum": "819f0f7d2e1cebdb0e836ef597222070",
     "grade": false,
     "grade_id": "cell-bd281f6b1f1784aa",
     "locked": true,
     "schema_version": 3,
     "solution": false,
     "task": false
    }
   },
   "source": [
    "**Question 6**: The code in the cell below has errors. There are errors preventing the code to run as intended. \n",
    "\n",
    "Your **task** is to find all mistakes, remove them, make the code function properly such that it presents a correct figure at the end. \n",
    "\n",
    "It is strongly recommended to start the exercise by copying the entire code to a separate python file and examine it in Spyder.\n",
    "\n",
    "**Note A**: Leave the function names unchanged. Some may be assumed in tests. Constant values as given are all correct.\n",
    "\n",
    "**Note B**: Copy your final solution back into the cell below so that the tests can run."
   ]
  },
  {
   "cell_type": "markdown",
   "id": "cc6efd39",
   "metadata": {
    "deletable": false,
    "editable": false,
    "nbgrader": {
     "cell_type": "markdown",
     "checksum": "ea75a51a83ffc2a25c2fc8265e8e87a3",
     "grade": false,
     "grade_id": "cell-cb4ac464a8ea31db",
     "locked": true,
     "schema_version": 3,
     "solution": false,
     "task": false
    }
   },
   "source": [
    "##### What is this code?\n",
    "\n",
    "This fault-finding exercise shows the creation of a bespoke random number generator from histogram data from file, typically from a measurement. The recipe for this task is in the script, section 4.2.2. The 6 steps in the code refer to the recipe in the script.\n",
    "\n",
    "The data to read contains the standard solar irradiance spectrum with variable bin widths, i.e. in the first column you find variable wavelength intervals in units of nano metre (nm). In the second column are the direct solar irradiance values in units of Watt per square metre and nm (W/m$^{2}$/nm). It is a text file, with comma-separated values (you can inspect it) and a single header line.\n",
    "\n",
    "Turning this standard spectrum into a bespoke random number generator is useful for modelling solar irradiance effects, for instance using it as a light source."
   ]
  },
  {
   "cell_type": "code",
   "execution_count": 4,
   "id": "9e7d9a5f",
   "metadata": {
    "deletable": false,
    "nbgrader": {
     "cell_type": "code",
     "checksum": "746eea614e71ff2d0a7e1ed82791826d",
     "grade": false,
     "grade_id": "Q6code",
     "locked": false,
     "schema_version": 3,
     "solution": true,
     "task": false
    }
   },
   "outputs": [
    {
     "data": {
      "image/png": "[encoded data removed]",
      "text/plain": [
       "<Figure size 640x480 with 1 Axes>"
      ]
     },
     "metadata": {},
     "output_type": "display_data"
    }
   ],
   "source": [
    "'''\n",
    "Script:\n",
    "Demonstrate a solar irradiance random number generator.\n",
    "'''\n",
    "# YOUR CODE HERE\n",
    "import numpy as np\n",
    "from random import random, uniform\n",
    "import matplotlib.pyplot as plt\n",
    "\n",
    "# get data from file\n",
    "alldata = np.loadtxt(\"am15.csv\", delimiter = ',') # file should be downloaded together with notebook exercise.\n",
    "\n",
    "bin_edges = alldata[:,0] # [nm]\n",
    "spectrum  = alldata[:,1] # W/m^2/nm\n",
    "\n",
    "# step 1\n",
    "bindifferences = np.diff(bin_edges, append = (bin_edges[-1]))\n",
    "norm = np.sum(spectrum*bindifferences) # YR: this variable is needed in the test, leave name unchanged.\n",
    "normalized = spectrum / norm\n",
    "\n",
    "# step 2\n",
    "cumulative = np.cumsum(normalized*bindifferences)\n",
    "\n",
    "store = []\n",
    "nsims = 100000 # YR: for a good test plot need a lot of simulations, leave unchanged for submission.\n",
    "for _ in range(nsims):\n",
    "    # step 4\n",
    "    trial = random()\n",
    "    # step 5\n",
    "    idx = np.where(cumulative >= trial)[0] # all indices\n",
    "    upperbin = bin_edges[1 + idx[0]] # take only the first index\n",
    "    lowerbin = bin_edges[idx[0]]\n",
    "\n",
    "    # step 6\n",
    "    value = uniform(lowerbin, upperbin)\n",
    "    store.append(value)\n",
    "\n",
    "# YR: no error below this line, variable 'data' is needed in test, leave name unchanged.\n",
    "data = np.array(store)\n",
    "plt.hist(data, bins=bin_edges, log=True)\n",
    "plt.xlabel('wavelength [nm]', fontsize=12)\n",
    "plt.ylabel('emission spectrum', fontsize=12)\n",
    "plt.show()\n"
   ]
  },
  {
   "cell_type": "markdown",
   "id": "f7bcd8d3",
   "metadata": {
    "deletable": false,
    "editable": false,
    "nbgrader": {
     "cell_type": "markdown",
     "checksum": "a0b7cc78919afb7618540101cb95fb5d",
     "grade": false,
     "grade_id": "plot",
     "locked": true,
     "points": 2,
     "schema_version": 3,
     "solution": false,
     "task": true
    }
   },
   "source": [
    "Manual plot marking with feedback where appropriate."
   ]
  },
  {
   "cell_type": "code",
   "execution_count": 2,
   "id": "187cf89c",
   "metadata": {
    "deletable": false,
    "editable": false,
    "nbgrader": {
     "cell_type": "code",
     "checksum": "3c7f0f2e89d3b54019b4d500e4a372e7",
     "grade": true,
     "grade_id": "Q6testA",
     "locked": true,
     "points": 1,
     "schema_version": 3,
     "solution": false,
     "task": false
    }
   },
   "outputs": [],
   "source": [
    "# test, do not delete"
   ]
  },
  {
   "cell_type": "code",
   "execution_count": 3,
   "id": "37a7d090",
   "metadata": {
    "deletable": false,
    "editable": false,
    "nbgrader": {
     "cell_type": "code",
     "checksum": "066dac72ebf00d99c75fe7d12f1c5750",
     "grade": true,
     "grade_id": "Q6testB",
     "locked": true,
     "points": 1,
     "schema_version": 3,
     "solution": false,
     "task": false
    }
   },
   "outputs": [],
   "source": [
    "# test, do not delete"
   ]
  },
  {
   "cell_type": "markdown",
   "id": "e99ad8a7",
   "metadata": {
    "deletable": false,
    "editable": false,
    "nbgrader": {
     "cell_type": "markdown",
     "checksum": "57f32876b72944cb1eb75e3d6cd30d51",
     "grade": false,
     "grade_id": "cell-ae5c434abe261a71",
     "locked": true,
     "schema_version": 3,
     "solution": false,
     "task": false
    }
   },
   "source": [
    "### Tests - 2 marks; Plot - 2 marks"
   ]
  }
 ],
 "metadata": {
  "kernelspec": {
   "display_name": "Python 3 (ipykernel)",
   "language": "python",
   "name": "python3"
  },
  "language_info": {
   "codemirror_mode": {
    "name": "ipython",
    "version": 3
   },
   "file_extension": ".py",
   "mimetype": "text/x-python",
   "name": "python",
   "nbconvert_exporter": "python",
   "pygments_lexer": "ipython3",
   "version": "3.11.5"
  }
 },
 "nbformat": 4,
 "nbformat_minor": 5
}
